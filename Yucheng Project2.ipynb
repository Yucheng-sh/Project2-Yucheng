{
 "cells": [
  {
   "cell_type": "markdown",
   "metadata": {},
   "source": [
    "# Analysis of Weight Categories Among Adults in the United States\n",
    "\n",
    "## Introduction\n",
    "In this project, we would explore a dataset about the weight categories of adults aged 20 and over in the United States. This dataset encompasses a range of years and presents data on normal weight, overweight, and obesity percentages among the adult population. This analysis is crucial in understanding the trends and patterns in adult weight categories, which are pivotal for public health planning and interventions.\n",
    "\n",
    "## Dataset Overview\n",
    "The dataset titled have several key features, including year, age groups, and estimates of the population percentages in different weight categories. The data provides a rich source for examining changes over time and across different demographic slices.\n",
    "\n",
    "## Research Questions\n",
    "The analysis would base on these research questions:\n",
    "1. How have the percentages of adults in normal weight, overweight, and obese categories changed over the years?\n",
    "3. Does the data show trends in weight categories based on other demographic characteristics?\n",
    "4. What is the trend in standard errors (SE) over the years for each weight category, and what does it suggest about data reliability or population health patterns?\n",
    "5. How does the distribution of weight categories vary over different time periods?\n",
    "5. What are the top 3 periods with the highest average percentages for obesity?\n",
    "6. What is the proportion of each weight category in the most recent year available in the dataset?\n",
    "\n",
    "## Skills and Tools Used\n",
    "We will employ various data analysis skills and tools, primarily focusing on:\n",
    "- **Python Programming**: For all aspects of data handling and processing.\n",
    "- **Pandas Library**: For data manipulation and analysis.\n",
    "- **Matplotlib and Seaborn Libraries**: For data visualization to aid in interpreting the data and presenting our findings.\n",
    "- **Exploratory Data Analysis Techniques**: To uncover underlying patterns and insights in the dataset.\n",
    "\n",
    "\n"
   ]
  },
  {
   "cell_type": "markdown",
   "metadata": {},
   "source": [
    "# Data Loading\n",
    "\n",
    "The dataset is loaded using Pandas. The initial few rows are displayed to understand the structure and content of the data.\n"
   ]
  },
  {
   "cell_type": "code",
   "execution_count": null,
   "metadata": {},
   "outputs": [],
   "source": [
    "import pandas as pd\n",
    "import matplotlib.pyplot as plt\n",
    "\n",
    "# Load the dataset\n",
    "data = pd.read_csv('weightData.csv')\n",
    "\n",
    "# Display the first few rows to understand the structure\n",
    "print(data.head())\n"
   ]
  },
  {
   "cell_type": "markdown",
   "metadata": {},
   "source": [
    "# Data Cleaning and Preprocessing\n",
    "\n",
    "First, we check for any missing values in the dataset. Depending on the nature and amount of missing data, appropriate actions like dropping or filling missing values are taken. Additionally, data type conversions are performed as needed for accurate analysis.\n"
   ]
  },
  {
   "cell_type": "code",
   "execution_count": null,
   "metadata": {},
   "outputs": [],
   "source": [
    "\n",
    "# Checking for missing values\n",
    "print(data.isnull().sum())\n"
   ]
  },
  {
   "cell_type": "markdown",
   "metadata": {},
   "source": [
    "## Research Question 1 How has the percentage of adults in the different weight categories changed over the years?\n",
    "We will group the data by 'YEAR' and 'PANEL' (which represents weight categories) and calculate the average percentage for each category over the years\n",
    "\n"
   ]
  },
  {
   "cell_type": "code",
   "execution_count": null,
   "metadata": {},
   "outputs": [],
   "source": [
    "# Group by 'YEAR' and 'PANEL' and calculate mean\n",
    "trends_over_years = data.groupby(['YEAR', 'PANEL']).mean().reset_index()\n",
    "\n",
    "# Plotting\n",
    "plt.figure(figsize=(12, 6))\n",
    "for category in trends_over_years['PANEL'].unique():\n",
    "    plt.plot(trends_over_years[trends_over_years['PANEL'] == category]['YEAR'], \n",
    "             trends_over_years[trends_over_years['PANEL'] == category]['ESTIMATE'],\n",
    "             label=category)\n",
    "plt.xlabel('Year')\n",
    "plt.ylabel('Percentage')\n",
    "plt.title('Trends in Weight Categories Over Years')\n",
    "plt.legend()\n",
    "plt.show()"
   ]
  },
  {
   "cell_type": "markdown",
   "metadata": {},
   "source": [
    "We can see that the trends of people in normal weight is keep declining and the rest are rising over years.\n"
   ]
  },
  {
   "cell_type": "markdown",
   "metadata": {},
   "source": [
    "# Research Question 2: Are there significant differences in weight categories across different age groups?\n",
    "To analyze the differences in weight categories across different age groups, we'll use a function to calculate the average percentage for each weight category within each age group."
   ]
  },
  {
   "cell_type": "code",
   "execution_count": null,
   "metadata": {},
   "outputs": [],
   "source": [
    "def analyze_weight_by_age_group(data):\n",
    "    age_group_analysis = data.groupby(['AGE', 'PANEL']).mean()['ESTIMATE'].unstack()\n",
    "    return age_group_analysis\n",
    "\n",
    "# Applying the function\n",
    "age_group_analysis = analyze_weight_by_age_group(data)\n",
    "print(age_group_analysis)\n",
    "\n"
   ]
  },
  {
   "cell_type": "markdown",
   "metadata": {},
   "source": [
    "# Research Question 3: What is the trend in standard errors (SE) over the years for each weight category?\n",
    "This question focuses on the reliability of data over time. We'll examine how the standard error for each weight category has changed over the years."
   ]
  },
  {
   "cell_type": "code",
   "execution_count": null,
   "metadata": {},
   "outputs": [],
   "source": [
    "# Group by 'YEAR' and 'PANEL' for SE\n",
    "se_trends_over_years = data.groupby(['YEAR', 'PANEL'])['SE'].mean().reset_index()\n",
    "\n",
    "# Plotting SE trends\n",
    "plt.figure(figsize=(12, 6))\n",
    "for category in se_trends_over_years['PANEL'].unique():\n",
    "    plt.plot(se_trends_over_years[se_trends_over_years['PANEL'] == category]['YEAR'], \n",
    "             se_trends_over_years[se_trends_over_years['PANEL'] == category]['SE'],\n",
    "             label=category)\n",
    "plt.xlabel('Year')\n",
    "plt.ylabel('Standard Error')\n",
    "plt.title('Trends in Standard Errors Over Years by Weight Category')\n",
    "plt.legend()\n",
    "plt.show()\n"
   ]
  },
  {
   "cell_type": "markdown",
   "metadata": {},
   "source": [
    "# Research Question 4: How does the distribution of weight categories vary over different time periods?\n",
    "We will create a function to calculate the mean and standard deviation of weight categories for each time period. This statistical analysis will give us an insight into the distribution and variability of weight categories over time"
   ]
  },
  {
   "cell_type": "code",
   "execution_count": null,
   "metadata": {},
   "outputs": [],
   "source": [
    "def weight_distribution_over_time(data):\n",
    "    distribution_over_time = data.groupby(['YEAR', 'PANEL']).agg(['mean', 'std'])['ESTIMATE']\n",
    "    return distribution_over_time\n",
    "\n",
    "# Applying the function\n",
    "time_distribution_analysis = weight_distribution_over_time(data)\n",
    "print(time_distribution_analysis)"
   ]
  },
  {
   "cell_type": "markdown",
   "metadata": {},
   "source": [
    "# Research Question 5: What are the top 3 periods with the highest average percentages for obesity?\n",
    "This analysis aims to identify the years with the highest average obesity rates. We will calculate the average percentage of obesity for each year and then identify the top three years with the highest rates."
   ]
  },
  {
   "cell_type": "code",
   "execution_count": null,
   "metadata": {},
   "outputs": [],
   "source": [
    "def top_years_for_obesity(data):\n",
    "    obesity_data = data[data['PANEL'] == 'Obesity (BMI greater than or equal to 30.0)']\n",
    "    top_years = obesity_data.groupby('YEAR')['ESTIMATE'].mean().sort_values(ascending=False).head(3)\n",
    "    return top_years\n",
    "\n",
    "# Applying the function\n",
    "top_obesity_years = top_years_for_obesity(data)\n",
    "print(\"Top 3 years with the highest average obesity rates:\\n\", top_obesity_years)\n"
   ]
  },
  {
   "cell_type": "markdown",
   "metadata": {},
   "source": [
    "The result indicates that for the time periods 2015-2018, 2013-2016, and 2009-2012, the average obesity rates were approximately 40.53%, 38.51%, and 38.47% respectively. These are the highest among all the time periods included in your dataset."
   ]
  },
  {
   "cell_type": "markdown",
   "metadata": {},
   "source": [
    "# Research Question 6: What is the proportion of each weight category in the most recent year available in the dataset?\n",
    "To visualize the current distribution of weight categories, we will use a pie chart. This chart will show the proportion of each weight category (normal weight, overweight, obesity) in the most recent year of data."
   ]
  },
  {
   "cell_type": "code",
   "execution_count": null,
   "metadata": {},
   "outputs": [],
   "source": [
    "def latest_year_proportions_filtered(data):\n",
    "    latest_year = data['YEAR'].max()\n",
    "    # Filter for the specific categories\n",
    "    filtered_data = data[data['PANEL'].isin(['Obesity (BMI greater than or equal to 30.0)',\n",
    "                                             'Overweight or obese (BMI greater than or equal to 25.0)',\n",
    "                                             'Normal weight (BMI from 18.5 to 24.9)'])]\n",
    "    latest_data = filtered_data[filtered_data['YEAR'] == latest_year]\n",
    "    proportions = latest_data.groupby('PANEL').sum()['ESTIMATE']\n",
    "    return proportions, latest_year\n",
    "\n",
    "# Applying the function\n",
    "proportions, latest_year = latest_year_proportions_filtered(data)\n",
    "\n",
    "# Plotting\n",
    "plt.figure(figsize=(8, 8))\n",
    "plt.pie(proportions, labels=proportions.index, autopct='%1.1f%%', startangle=140)\n",
    "plt.title(f'Proportion of Weight Categories in {latest_year}')\n",
    "plt.show()\n"
   ]
  },
  {
   "cell_type": "markdown",
   "metadata": {},
   "source": [
    "# Conclusion\n",
    "Through the analysis of the dataset \"Normal weight, overweight, and obesity among adults aged 20 and over, by selected characteristics, United States,\" several key insights have been revealed. These findings are instrumental for public health officials, policymakers, and healthcare providers in understanding and addressing the challenges related to weight management in the adult population. The data underscores the need for targeted health interventions and continued monitoring of weight trends to combat the rising prevalence of overweight and obesity, which are known risk factors for various chronic diseases.\n",
    "\n",
    "In summary, the dataset not only highlights the current state of adult weight categories in the United States but also serves as a call to action for tailored health initiatives and policies to improve the overall health and well-being of the population."
   ]
  }
 ],
 "metadata": {
  "kernelspec": {
   "display_name": "Python 3",
   "language": "python",
   "name": "python3"
  },
  "language_info": {
   "codemirror_mode": {
    "name": "ipython",
    "version": 3
   },
   "file_extension": ".py",
   "mimetype": "text/x-python",
   "name": "python",
   "nbconvert_exporter": "python",
   "pygments_lexer": "ipython3",
   "version": "3.10.13"
  }
 },
 "nbformat": 4,
 "nbformat_minor": 2
}
